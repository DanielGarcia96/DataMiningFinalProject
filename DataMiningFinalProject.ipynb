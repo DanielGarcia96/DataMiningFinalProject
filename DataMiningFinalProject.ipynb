{
 "cells": [
  {
   "cell_type": "code",
   "execution_count": 68,
   "metadata": {},
   "outputs": [
    {
     "name": "stdout",
     "output_type": "stream",
     "text": [
      "* features:\n",
      "['age', 'workclass', 'final-weight', 'education', 'education-num', 'marital-status', 'occupation', 'relationship', 'race', 'sex', 'capital-gain', 'capital-loss', 'hours-per-week', 'native-country']\n",
      "\n",
      "* classes:\n",
      "['<=50K' '>50K']\n",
      "\n",
      "* adult_df.tail()\n",
      "       Class-Label annual-income\n",
      "32556            0         <=50K\n",
      "32557            1          >50K\n",
      "32558            0         <=50K\n",
      "32559            0         <=50K\n",
      "32560            1          >50K\n",
      "\n",
      "* len(df.columns)\n",
      "16\n",
      "\n",
      "Attribute:\tage\tValue:\t39\n",
      "Attribute:\tfinal-weight\tValue:\t77516\n",
      "Attribute:\teducation-num\tValue:\t13\n",
      "Attribute:\tcapital-gain\tValue:\t2174\n",
      "Attribute:\tcapital-loss\tValue:\t0\n",
      "Attribute:\thours-per-week\tValue:\t40\n"
     ]
    },
    {
     "ename": "ValueError",
     "evalue": "could not convert string to float: 'United-States'",
     "output_type": "error",
     "traceback": [
      "\u001b[0;31m---------------------------------------------------------------------------\u001b[0m",
      "\u001b[0;31mValueError\u001b[0m                                Traceback (most recent call last)",
      "\u001b[0;32m<ipython-input-68-2b67b69263f1>\u001b[0m in \u001b[0;36m<module>\u001b[0;34m()\u001b[0m\n\u001b[1;32m     50\u001b[0m \u001b[0mgnb\u001b[0m \u001b[0;34m=\u001b[0m \u001b[0mGaussianNB\u001b[0m\u001b[0;34m(\u001b[0m\u001b[0;34m)\u001b[0m\u001b[0;34m\u001b[0m\u001b[0m\n\u001b[1;32m     51\u001b[0m \u001b[0;31m# getting ValueError on this line\u001b[0m\u001b[0;34m\u001b[0m\u001b[0;34m\u001b[0m\u001b[0m\n\u001b[0;32m---> 52\u001b[0;31m \u001b[0mnaive_bayes\u001b[0m \u001b[0;34m=\u001b[0m \u001b[0mgnb\u001b[0m\u001b[0;34m.\u001b[0m\u001b[0mfit\u001b[0m\u001b[0;34m(\u001b[0m\u001b[0madult_X\u001b[0m\u001b[0;34m,\u001b[0m \u001b[0madult_y\u001b[0m\u001b[0;34m)\u001b[0m\u001b[0;34m\u001b[0m\u001b[0m\n\u001b[0m",
      "\u001b[0;32m/anaconda3/lib/python3.6/site-packages/sklearn/naive_bayes.py\u001b[0m in \u001b[0;36mfit\u001b[0;34m(self, X, y, sample_weight)\u001b[0m\n\u001b[1;32m    181\u001b[0m             \u001b[0mReturns\u001b[0m \u001b[0mself\u001b[0m\u001b[0;34m.\u001b[0m\u001b[0;34m\u001b[0m\u001b[0m\n\u001b[1;32m    182\u001b[0m         \"\"\"\n\u001b[0;32m--> 183\u001b[0;31m         \u001b[0mX\u001b[0m\u001b[0;34m,\u001b[0m \u001b[0my\u001b[0m \u001b[0;34m=\u001b[0m \u001b[0mcheck_X_y\u001b[0m\u001b[0;34m(\u001b[0m\u001b[0mX\u001b[0m\u001b[0;34m,\u001b[0m \u001b[0my\u001b[0m\u001b[0;34m)\u001b[0m\u001b[0;34m\u001b[0m\u001b[0m\n\u001b[0m\u001b[1;32m    184\u001b[0m         return self._partial_fit(X, y, np.unique(y), _refit=True,\n\u001b[1;32m    185\u001b[0m                                  sample_weight=sample_weight)\n",
      "\u001b[0;32m/anaconda3/lib/python3.6/site-packages/sklearn/utils/validation.py\u001b[0m in \u001b[0;36mcheck_X_y\u001b[0;34m(X, y, accept_sparse, dtype, order, copy, force_all_finite, ensure_2d, allow_nd, multi_output, ensure_min_samples, ensure_min_features, y_numeric, warn_on_dtype, estimator)\u001b[0m\n\u001b[1;32m    571\u001b[0m     X = check_array(X, accept_sparse, dtype, order, copy, force_all_finite,\n\u001b[1;32m    572\u001b[0m                     \u001b[0mensure_2d\u001b[0m\u001b[0;34m,\u001b[0m \u001b[0mallow_nd\u001b[0m\u001b[0;34m,\u001b[0m \u001b[0mensure_min_samples\u001b[0m\u001b[0;34m,\u001b[0m\u001b[0;34m\u001b[0m\u001b[0m\n\u001b[0;32m--> 573\u001b[0;31m                     ensure_min_features, warn_on_dtype, estimator)\n\u001b[0m\u001b[1;32m    574\u001b[0m     \u001b[0;32mif\u001b[0m \u001b[0mmulti_output\u001b[0m\u001b[0;34m:\u001b[0m\u001b[0;34m\u001b[0m\u001b[0m\n\u001b[1;32m    575\u001b[0m         y = check_array(y, 'csr', force_all_finite=True, ensure_2d=False,\n",
      "\u001b[0;32m/anaconda3/lib/python3.6/site-packages/sklearn/utils/validation.py\u001b[0m in \u001b[0;36mcheck_array\u001b[0;34m(array, accept_sparse, dtype, order, copy, force_all_finite, ensure_2d, allow_nd, ensure_min_samples, ensure_min_features, warn_on_dtype, estimator)\u001b[0m\n\u001b[1;32m    446\u001b[0m         \u001b[0;31m# make sure we actually converted to numeric:\u001b[0m\u001b[0;34m\u001b[0m\u001b[0;34m\u001b[0m\u001b[0m\n\u001b[1;32m    447\u001b[0m         \u001b[0;32mif\u001b[0m \u001b[0mdtype_numeric\u001b[0m \u001b[0;32mand\u001b[0m \u001b[0marray\u001b[0m\u001b[0;34m.\u001b[0m\u001b[0mdtype\u001b[0m\u001b[0;34m.\u001b[0m\u001b[0mkind\u001b[0m \u001b[0;34m==\u001b[0m \u001b[0;34m\"O\"\u001b[0m\u001b[0;34m:\u001b[0m\u001b[0;34m\u001b[0m\u001b[0m\n\u001b[0;32m--> 448\u001b[0;31m             \u001b[0marray\u001b[0m \u001b[0;34m=\u001b[0m \u001b[0marray\u001b[0m\u001b[0;34m.\u001b[0m\u001b[0mastype\u001b[0m\u001b[0;34m(\u001b[0m\u001b[0mnp\u001b[0m\u001b[0;34m.\u001b[0m\u001b[0mfloat64\u001b[0m\u001b[0;34m)\u001b[0m\u001b[0;34m\u001b[0m\u001b[0m\n\u001b[0m\u001b[1;32m    449\u001b[0m         \u001b[0;32mif\u001b[0m \u001b[0;32mnot\u001b[0m \u001b[0mallow_nd\u001b[0m \u001b[0;32mand\u001b[0m \u001b[0marray\u001b[0m\u001b[0;34m.\u001b[0m\u001b[0mndim\u001b[0m \u001b[0;34m>=\u001b[0m \u001b[0;36m3\u001b[0m\u001b[0;34m:\u001b[0m\u001b[0;34m\u001b[0m\u001b[0m\n\u001b[1;32m    450\u001b[0m             raise ValueError(\"Found array with dim %d. %s expected <= 2.\"\n",
      "\u001b[0;31mValueError\u001b[0m: could not convert string to float: 'United-States'"
     ]
    }
   ],
   "source": [
    "# Abbreviations:\n",
    "# DS: data set\n",
    "# df: data frame\n",
    "import csv\n",
    "import pandas as pd\n",
    "from sklearn.datasets import load_boston\n",
    "from sklearn.naive_bayes import GaussianNB\n",
    "from sklearn import preprocessing\n",
    "\n",
    "# Map a given class label to integers\n",
    "def map_classes(df, class_column):\n",
    "    df_new = df.copy()\n",
    "    classes = df_new[class_column].unique()\n",
    "    map_to_int = {name: n for n, name in enumerate(classes)}\n",
    "    df_new[\"Class-Label\"] = df_new[class_column].replace(map_to_int)\n",
    "    return (df_new, classes)\n",
    "\n",
    "# Map string attributes to integer values\n",
    "def map_stringAttributes(df):\n",
    "    le = preprocessing.LabelEncoder()\n",
    "    new_features = []\n",
    "    print(\"* len(df.columns)\", len(df.columns), sep=\"\\n\", end=\"\\n\\n\")\n",
    "    for i in range (0, len(df.columns)-1, 1):\n",
    "        attr_name = df.columns[i]              # column name\n",
    "        value = df.iloc[0][attr_name]          # first value in column\n",
    "        if (isinstance(value, str) != True):   # check if value is not a string (gets integer values)\n",
    "            print(\"Attribute:\", attr_name, \"Value:\", value, sep=\"\\t\", end=\"\\n\")\n",
    "\n",
    "# Data frames for their respective data set\n",
    "adult = pd.read_csv(\"Adult_DS.csv\")\n",
    "boston_df = load_boston()\n",
    "\n",
    "# Naive Bayes Classifier\n",
    "# Map class labels to integers - 0 for <=50K, 1 for >50K\n",
    "adult_df, adult_classes = map_classes(adult, \"annual-income\")\n",
    "# Create list of features for adult DS\n",
    "adult_features = list(adult_df.columns[:14])\n",
    "# This is just to show everything is working\n",
    "print(\"* features:\", adult_features, sep=\"\\n\", end=\"\\n\\n\")\n",
    "print(\"* classes:\", adult_classes, sep=\"\\n\", end=\"\\n\\n\")\n",
    "print(\"* adult_df.tail()\", adult_df[[\"Class-Label\", \"annual-income\"]].tail(), sep=\"\\n\", end=\"\\n\\n\")\n",
    "\n",
    "map_stringAttributes(adult_df)\n",
    "\n",
    "adult_y = adult_df[\"Class-Label\"]\n",
    "adult_X = adult_df[adult_features]\n",
    "\n",
    "#print(\"This is adult_y:\", adult_y)\n",
    "#print(\"This is adult_X:\", adult_X)\n",
    "gnb = GaussianNB()\n",
    "\n",
    "# getting ValueError on this line\n",
    "naive_bayes = gnb.fit(adult_X, adult_y)"
   ]
  },
  {
   "cell_type": "code",
   "execution_count": null,
   "metadata": {
    "collapsed": true
   },
   "outputs": [],
   "source": []
  },
  {
   "cell_type": "code",
   "execution_count": null,
   "metadata": {
    "collapsed": true
   },
   "outputs": [],
   "source": []
  }
 ],
 "metadata": {
  "kernelspec": {
   "display_name": "Python 3",
   "language": "python",
   "name": "python3"
  },
  "language_info": {
   "codemirror_mode": {
    "name": "ipython",
    "version": 3
   },
   "file_extension": ".py",
   "mimetype": "text/x-python",
   "name": "python",
   "nbconvert_exporter": "python",
   "pygments_lexer": "ipython3",
   "version": "3.6.3"
  }
 },
 "nbformat": 4,
 "nbformat_minor": 2
}
